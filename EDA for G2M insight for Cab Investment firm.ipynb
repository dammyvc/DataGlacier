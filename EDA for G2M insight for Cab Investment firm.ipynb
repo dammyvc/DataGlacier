{
 "cells": [
  {
   "cell_type": "markdown",
   "source": [
    "# G2M insight for Cab Investment firm\n",
    "\n",
    "This document provides a brief summary of the EDA performed on the given dataset from the G2M Insight brief"
   ],
   "metadata": {
    "collapsed": false
   }
  },
  {
   "cell_type": "markdown",
   "source": [
    "### Importing the required libraries for EDA"
   ],
   "metadata": {
    "collapsed": false
   }
  },
  {
   "cell_type": "code",
   "execution_count": 1,
   "outputs": [],
   "source": [
    "import pandas as pd\n",
    "import numpy as np\n",
    "import seaborn as sns\n",
    "import matplotlib.pyplot as plt\n",
    "%matplotlib inline\n",
    "sns.set(color_codes=True)"
   ],
   "metadata": {
    "collapsed": false
   }
  },
  {
   "cell_type": "markdown",
   "source": [
    "### Data Cleaning and Merging"
   ],
   "metadata": {
    "collapsed": false
   }
  },
  {
   "cell_type": "markdown",
   "source": [
    "From the above dataset, I have merged the _Cab_Data_ dataset and the _Transaction_ID_ dataset using the INNER JOIN syntax in SQL\n",
    "\n",
    "SELECT\n",
    "  `data-certification-44836.EDA.cab_data`.*,\n",
    "  `data-certification-44836.EDA.transaction_details`.*\n",
    "\n",
    "FROM `data-certification-44836.EDA.cab_data` INNER JOIN `data-certification-44836.EDA.transaction_details` ON `data-certification-44836.EDA.cab_data`.Transaction_ID = `data-certification-44836.EDA.transaction_details`.Transaction_ID\n",
    "\n",
    "ORDER BY `data-certification-44836.EDA.cab_data`.Transaction_ID\n",
    "\n",
    "This has allowed for the removal of data in the Transaction_ID column of data in the Cab_Data dataset that did not have a corresponding Customer_ID\n",
    "\n"
   ],
   "metadata": {
    "collapsed": false
   }
  },
  {
   "cell_type": "markdown",
   "source": [
    "### Loading the data into the data frame."
   ],
   "metadata": {
    "collapsed": false
   }
  },
  {
   "cell_type": "code",
   "execution_count": 3,
   "outputs": [
    {
     "data": {
      "text/plain": "   Customer_ID  Transaction_ID Date_of_Travel   Company        City  \\\n0        29290        10000011     08/01/2016  Pink Cab  ATLANTA GA   \n1        27703        10000012     06/01/2016  Pink Cab  ATLANTA GA   \n2        28712        10000013     02/01/2016  Pink Cab  ATLANTA GA   \n3        28020        10000014     07/01/2016  Pink Cab  ATLANTA GA   \n4        27182        10000015     03/01/2016  Pink Cab  ATLANTA GA   \n\n   KM_Travelled  Cost_of_Trip  Price_Charged  \n0         30.45       313.635         370.95  \n1         28.62       334.854         358.52  \n2          9.04        97.632         125.20  \n3         33.17       351.602         377.40  \n4          8.73        97.776         114.62  ",
      "text/html": "<div>\n<style scoped>\n    .dataframe tbody tr th:only-of-type {\n        vertical-align: middle;\n    }\n\n    .dataframe tbody tr th {\n        vertical-align: top;\n    }\n\n    .dataframe thead th {\n        text-align: right;\n    }\n</style>\n<table border=\"1\" class=\"dataframe\">\n  <thead>\n    <tr style=\"text-align: right;\">\n      <th></th>\n      <th>Customer_ID</th>\n      <th>Transaction_ID</th>\n      <th>Date_of_Travel</th>\n      <th>Company</th>\n      <th>City</th>\n      <th>KM_Travelled</th>\n      <th>Cost_of_Trip</th>\n      <th>Price_Charged</th>\n    </tr>\n  </thead>\n  <tbody>\n    <tr>\n      <th>0</th>\n      <td>29290</td>\n      <td>10000011</td>\n      <td>08/01/2016</td>\n      <td>Pink Cab</td>\n      <td>ATLANTA GA</td>\n      <td>30.45</td>\n      <td>313.635</td>\n      <td>370.95</td>\n    </tr>\n    <tr>\n      <th>1</th>\n      <td>27703</td>\n      <td>10000012</td>\n      <td>06/01/2016</td>\n      <td>Pink Cab</td>\n      <td>ATLANTA GA</td>\n      <td>28.62</td>\n      <td>334.854</td>\n      <td>358.52</td>\n    </tr>\n    <tr>\n      <th>2</th>\n      <td>28712</td>\n      <td>10000013</td>\n      <td>02/01/2016</td>\n      <td>Pink Cab</td>\n      <td>ATLANTA GA</td>\n      <td>9.04</td>\n      <td>97.632</td>\n      <td>125.20</td>\n    </tr>\n    <tr>\n      <th>3</th>\n      <td>28020</td>\n      <td>10000014</td>\n      <td>07/01/2016</td>\n      <td>Pink Cab</td>\n      <td>ATLANTA GA</td>\n      <td>33.17</td>\n      <td>351.602</td>\n      <td>377.40</td>\n    </tr>\n    <tr>\n      <th>4</th>\n      <td>27182</td>\n      <td>10000015</td>\n      <td>03/01/2016</td>\n      <td>Pink Cab</td>\n      <td>ATLANTA GA</td>\n      <td>8.73</td>\n      <td>97.776</td>\n      <td>114.62</td>\n    </tr>\n  </tbody>\n</table>\n</div>"
     },
     "execution_count": 3,
     "metadata": {},
     "output_type": "execute_result"
    }
   ],
   "source": [
    "df = pd.read_csv('/Users/oluwadamilolavera-cruz/Library/CloudStorage/Box-Box/Data Glacier/DataSets-main/Cab_Data_Merged.csv',\n",
    "                 names = ['Customer_ID', 'Transaction_ID', 'Date_of_Travel', 'Company', 'City', 'KM_Travelled', 'Cost_of_Trip','Price_Charged'],\n",
    "                 low_memory = False,\n",
    "                 skiprows=1)\n",
    "df.head(5)"
   ],
   "metadata": {
    "collapsed": false
   }
  },
  {
   "cell_type": "code",
   "execution_count": 4,
   "outputs": [
    {
     "data": {
      "text/plain": "Customer_ID         int64\nTransaction_ID      int64\nDate_of_Travel     object\nCompany            object\nCity               object\nKM_Travelled      float64\nCost_of_Trip      float64\nPrice_Charged     float64\ndtype: object"
     },
     "execution_count": 4,
     "metadata": {},
     "output_type": "execute_result"
    }
   ],
   "source": [
    "df.dtypes"
   ],
   "metadata": {
    "collapsed": false
   }
  },
  {
   "cell_type": "code",
   "execution_count": 5,
   "outputs": [
    {
     "data": {
      "text/plain": "(359392, 8)"
     },
     "execution_count": 5,
     "metadata": {},
     "output_type": "execute_result"
    }
   ],
   "source": [
    "df.shape"
   ],
   "metadata": {
    "collapsed": false
   }
  },
  {
   "cell_type": "code",
   "execution_count": 6,
   "outputs": [
    {
     "name": "stdout",
     "output_type": "stream",
     "text": [
      "number of duplicate rows:  (0, 8)\n"
     ]
    }
   ],
   "source": [
    "duplicate_rows_df = df[df.duplicated()]\n",
    "print(\"number of duplicate rows: \", duplicate_rows_df.shape)"
   ],
   "metadata": {
    "collapsed": false
   }
  },
  {
   "cell_type": "code",
   "execution_count": 7,
   "outputs": [
    {
     "data": {
      "text/plain": "Customer_ID       359392\nTransaction_ID    359392\nDate_of_Travel    359392\nCompany           359392\nCity              359392\nKM_Travelled      359392\nCost_of_Trip      359392\nPrice_Charged     359392\ndtype: int64"
     },
     "execution_count": 7,
     "metadata": {},
     "output_type": "execute_result"
    }
   ],
   "source": [
    "df.count()"
   ],
   "metadata": {
    "collapsed": false
   }
  },
  {
   "cell_type": "code",
   "execution_count": 35,
   "outputs": [
    {
     "name": "stdout",
     "output_type": "stream",
     "text": [
      "Customer_ID       0\n",
      "Transaction_ID    0\n",
      "Date_of_Travel    0\n",
      "Company           0\n",
      "City              0\n",
      "KM_Travelled      0\n",
      "Cost_of_Trip      0\n",
      "Price_Charged     0\n",
      "dtype: int64\n"
     ]
    }
   ],
   "source": [
    "print(df.isnull().sum())"
   ],
   "metadata": {
    "collapsed": false
   }
  },
  {
   "cell_type": "code",
   "execution_count": 10,
   "outputs": [
    {
     "data": {
      "text/plain": "<AxesSubplot:xlabel='Price_Charged'>"
     },
     "execution_count": 10,
     "metadata": {},
     "output_type": "execute_result"
    },
    {
     "data": {
      "text/plain": "<Figure size 432x288 with 1 Axes>",
      "image/png": "[encoded data removed]"
     },
     "metadata": {},
     "output_type": "display_data"
    }
   ],
   "source": [
    "sns.boxplot(x=df['Price_Charged'])"
   ],
   "metadata": {
    "collapsed": false
   }
  },
  {
   "cell_type": "code",
   "execution_count": null,
   "outputs": [],
   "source": [],
   "metadata": {
    "collapsed": false
   }
  }
 ],
 "metadata": {
  "kernelspec": {
   "display_name": "Python 3",
   "language": "python",
   "name": "python3"
  },
  "language_info": {
   "codemirror_mode": {
    "name": "ipython",
    "version": 2
   },
   "file_extension": ".py",
   "mimetype": "text/x-python",
   "name": "python",
   "nbconvert_exporter": "python",
   "pygments_lexer": "ipython2",
   "version": "2.7.6"
  }
 },
 "nbformat": 4,
 "nbformat_minor": 0
}
